{
 "cells": [
  {
   "cell_type": "code",
   "execution_count": 22,
   "id": "08bca960-1447-427a-8ad2-c7a8043e09d3",
   "metadata": {},
   "outputs": [],
   "source": [
    "# Extracting data using BeautifulSoup\n",
    "\n",
    "# Download the web page Using Requests Library\n",
    "# Parse HTML on a web page using BeautifulSoup\n",
    "# Extract data and duild a data frame\n",
    "# Extracting data using pandas"
   ]
  },
  {
   "cell_type": "code",
   "execution_count": null,
   "id": "045e2624-3844-471f-a490-6b98fda80526",
   "metadata": {},
   "outputs": [],
   "source": [
    "!pip install pandas\n",
    "!pip install requests\n",
    "!pip install bs4\n",
    "!pip install html5lib\n",
    "!pip install lxml\n",
    "!pip install plotly"
   ]
  },
  {
   "cell_type": "code",
   "execution_count": 46,
   "id": "112f1e83-c745-4e54-b137-82989b499ac8",
   "metadata": {},
   "outputs": [],
   "source": [
    "import pandas as pd\n",
    "import requests\n",
    "from bs4 import BeautifulSoup\n",
    " # Set the display options in Jupyter Notebook\n",
    "pd.options.display.max_rows = 10  # Set to desired number"
   ]
  },
  {
   "cell_type": "code",
   "execution_count": 47,
   "id": "337f3ec8-b2df-440d-809c-386b42f4faaa",
   "metadata": {},
   "outputs": [],
   "source": [
    "\n",
    "\n",
    "import warnings\n",
    "# Ignore all warnings\n",
    "warnings.filterwarnings(\"ignore\", category=FutureWarning)"
   ]
  },
  {
   "cell_type": "code",
   "execution_count": 48,
   "id": "ae8d3d13-3bb9-47c3-b9fe-513ecfb6fc29",
   "metadata": {},
   "outputs": [],
   "source": [
    "# We will extract Netflix stock data using yahoo finance website\n",
    "\n",
    "# https://cf-courses-data.s3.us.cloud-object-storage.appdomain.cloud/IBMDeveloperSkillsNetwork-PY0220EN-SkillsNetwork/labs/project/netflix_data_webpage.html\n",
    "\n"
   ]
  },
  {
   "cell_type": "code",
   "execution_count": 27,
   "id": "70912a8b-d730-4110-9073-c7eb987f2d13",
   "metadata": {},
   "outputs": [],
   "source": [
    "# On the following web page we have a table with columns name (Date, Open, High, Low, close, adj close volume) \n",
    "# out of which we must extract following columns -->\n",
    "\n",
    "# Date\n",
    "\n",
    "# Open\n",
    "\n",
    "# High\n",
    "\n",
    "# Low\n",
    "\n",
    "# Close\n",
    "\n",
    "# Volume"
   ]
  },
  {
   "cell_type": "code",
   "execution_count": 28,
   "id": "e4406d2d-7b58-4488-8090-3fe932897af3",
   "metadata": {},
   "outputs": [],
   "source": [
    "# We will need to :\n",
    "# Send an HTTP request to the web page using the requests library.---> 1\n",
    "# Parse the HTML content of the web page using BeautifulSoup.     -->   2\n",
    "# Identify the HTML tags that contain the data you want to extract.- ->  3\n",
    "# Use BeautifulSoup methods to extract the data from the HTML tags. _->    4 \n",
    "# Print the extracted data                                ->                 5\n",
    " \n",
    "\n",
    "# will use the request library for sending an HTTP request to the web page.\n",
    "\n",
    "# url = \"https://cf-courses-data.s3.us.cloud-object-storage.appdomain.cloud/IBMDeveloperSkillsNetwork-PY0220EN-SkillsNetwork/labs/project/netflix_data_webpage.html\""
   ]
  },
  {
   "cell_type": "code",
   "execution_count": null,
   "id": "1b7f62b0-33e8-4443-83f8-40c07199ec10",
   "metadata": {},
   "outputs": [],
   "source": [
    "# The requests.get() method takes a URL as its first argument, which specifies the location of the resource to be retrieved. \n",
    "# In this case, the value of the url variable is passed as the argument to the requests.get() method, \n",
    "# because you will store a web page URL in a url variable.\n",
    "\n",
    "# You use the .text method for extracting the HTML content as a string in order to make it readable.\n",
    "\n",
    "\n",
    "url = \"https://cf-courses-data.s3.us.cloud-object-storage.appdomain.cloud/IBMDeveloperSkillsNetwork-PY0220EN-SkillsNetwork/labs/project/netflix_data_webpage.html\"\n",
    "\n",
    "data = requests.get(url).text\n",
    "print(data)\n",
    "\n",
    "\n",
    "\n",
    "# Send an HTTP request to the web page using the requests library.---> Step 1 done "
   ]
  },
  {
   "cell_type": "code",
   "execution_count": 50,
   "id": "7c2c409d-04e6-44fb-9e51-65632d47c8bf",
   "metadata": {},
   "outputs": [
    {
     "name": "stdout",
     "output_type": "stream",
     "text": [
      "finished parsing successfully\n"
     ]
    }
   ],
   "source": [
    "# Now we will need to parse the HTML content of the url\n",
    "# Take the raw HTML content of a web page or a string of HTML code which needs to be parsed and transformed into a structured, \n",
    "# hierarchical format that can be more easily analyzed and manipulated in Python. \n",
    "# We will achieve this using a Python library called Beautiful Soup.\n",
    "\n",
    "\n",
    "# Must create a new BeautifulSoup object, we will need to pass two arguments to its constructor\n",
    "# 1. The HTML or XML Content that I want to parse into a string\n",
    "# 2. The name of the parser that I want to use to parse the HTML or XML content. optional because Soup has a default HTML parser but I will use HTML5lib\n",
    "\n",
    "soup = BeautifulSoup(data,'html5lib')\n",
    "\n",
    "\n",
    "print('finished parsing successfully')\n",
    "\n",
    "\n",
    "# Parse the HTML content of the web page using BeautifulSoup.     -->   Step 2 Completed\n"
   ]
  },
  {
   "cell_type": "code",
   "execution_count": 51,
   "id": "055f84b9-95e7-46c7-8e2e-5ce50135e3f1",
   "metadata": {},
   "outputs": [
    {
     "name": "stdout",
     "output_type": "stream",
     "text": [
      "Empty DataFrame\n",
      "Columns: [Date, Open, High, Low, Close, Volume]\n",
      "Index: []\n"
     ]
    },
    {
     "data": {
      "text/html": [
       "<div>\n",
       "<style scoped>\n",
       "    .dataframe tbody tr th:only-of-type {\n",
       "        vertical-align: middle;\n",
       "    }\n",
       "\n",
       "    .dataframe tbody tr th {\n",
       "        vertical-align: top;\n",
       "    }\n",
       "\n",
       "    .dataframe thead th {\n",
       "        text-align: right;\n",
       "    }\n",
       "</style>\n",
       "<table border=\"1\" class=\"dataframe\">\n",
       "  <thead>\n",
       "    <tr style=\"text-align: right;\">\n",
       "      <th></th>\n",
       "      <th>Date</th>\n",
       "      <th>Open</th>\n",
       "      <th>High</th>\n",
       "      <th>Low</th>\n",
       "      <th>Close</th>\n",
       "      <th>Volume</th>\n",
       "    </tr>\n",
       "  </thead>\n",
       "  <tbody>\n",
       "  </tbody>\n",
       "</table>\n",
       "</div>"
      ],
      "text/plain": [
       "Empty DataFrame\n",
       "Columns: [Date, Open, High, Low, Close, Volume]\n",
       "Index: []"
      ]
     },
     "execution_count": 51,
     "metadata": {},
     "output_type": "execute_result"
    }
   ],
   "source": [
    "# Step 3 --> now we need to identify the HTML tags\n",
    "\n",
    "# We will scrape the content of the web page and convert the table into a data frame\n",
    "# Will create an empty data frame using the pd.DataFrame() func with the specified columns -->\n",
    "\n",
    "\n",
    "# \"Date\"\n",
    "# \"Open\"\n",
    "# \"High\"\n",
    "# \"Low\"\n",
    "# \"Close\"\n",
    "# \"Volume\"\n",
    "\n",
    "netflix_data = pd.DataFrame(columns=[\"Date\",\"Open\",\"High\",\"Low\",\"Close\",\"Volume\"])\n",
    "\n",
    "\n",
    "print(netflix_data)\n",
    "netflix_data"
   ]
  },
  {
   "cell_type": "code",
   "execution_count": 32,
   "id": "b58d555c-9867-4c58-a8aa-c70f8c8bbc69",
   "metadata": {},
   "outputs": [],
   "source": [
    "# <table>: This tag is a root tag used to define the start and end of the table. All the content of the table is enclosed within these tags.\n",
    "\n",
    "# <tr>: This tag is used to define a table row. Each row of the table is defined within this tag.\n",
    "\n",
    "# <td>: This tag is used to define a table cell. Each cell of the table is defined within this tag. You can specify the content of the cell between the opening and closing tags.\n",
    "\n",
    "# <th>: This tag is used to define a header cell in the table. The header cell is used to describe the contents of a column or row. By default, the text inside a tag is bold and centered.\n",
    "\n",
    "# <tbody>: This is the main content of the table, which is defined using the tag. It contains one or more rows of elements.\n",
    "\n"
   ]
  },
  {
   "cell_type": "code",
   "execution_count": 52,
   "id": "3e7b2bb5-fa0b-4267-9b1b-9eafe37d9d51",
   "metadata": {},
   "outputs": [],
   "source": [
    "# Step 4 ---> Use a BeautifulSoup method to extract the data\n",
    "# We will use find() and find_all() methods of the BeautifulSoup object to locate the table body and table row respectively in the HTML.\n",
    "\n",
    "# The find() method will return particular tag content.\n",
    "# The find_all() method returns a list of all matching tags in the HTML.\n",
    "\n",
    "\n",
    "# First we isolate the body of the table which contains all the information\n",
    "# Then we loop through each row and find all the column values for each row\n",
    "for row in soup.find(\"tbody\").find_all('tr'):\n",
    "    col = row.find_all(\"td\")\n",
    "    date = col[0].text\n",
    "    Open = col[1].text\n",
    "    high = col[2].text\n",
    "    low = col[3].text\n",
    "    close = col[4].text\n",
    "    adj_close = col[5].text\n",
    "    volume = col[6].text\n",
    "    \n",
    "    # Finally we append the data of each row to the table\n",
    "netflix_data = pd.concat([netflix_data,pd.DataFrame({\"Date\":[date], \"Open\":[Open], \"High\":[high], \"Low\":[low], \"Close\":[close], \"Adj Close\":[adj_close], \"Volume\":[volume]})], ignore_index=True)  \n"
   ]
  },
  {
   "cell_type": "code",
   "execution_count": 53,
   "id": "45c734fa-d892-4c42-9445-3204a1e48dbd",
   "metadata": {},
   "outputs": [
    {
     "data": {
      "text/html": [
       "<div>\n",
       "<style scoped>\n",
       "    .dataframe tbody tr th:only-of-type {\n",
       "        vertical-align: middle;\n",
       "    }\n",
       "\n",
       "    .dataframe tbody tr th {\n",
       "        vertical-align: top;\n",
       "    }\n",
       "\n",
       "    .dataframe thead th {\n",
       "        text-align: right;\n",
       "    }\n",
       "</style>\n",
       "<table border=\"1\" class=\"dataframe\">\n",
       "  <thead>\n",
       "    <tr style=\"text-align: right;\">\n",
       "      <th></th>\n",
       "      <th>Date</th>\n",
       "      <th>Open</th>\n",
       "      <th>High</th>\n",
       "      <th>Low</th>\n",
       "      <th>Close</th>\n",
       "      <th>Volume</th>\n",
       "      <th>Adj Close</th>\n",
       "    </tr>\n",
       "  </thead>\n",
       "  <tbody>\n",
       "    <tr>\n",
       "      <th>0</th>\n",
       "      <td>Sep 01, 2015</td>\n",
       "      <td>109.35</td>\n",
       "      <td>111.24</td>\n",
       "      <td>93.55</td>\n",
       "      <td>103.26</td>\n",
       "      <td>497,401,200</td>\n",
       "      <td>103.26</td>\n",
       "    </tr>\n",
       "  </tbody>\n",
       "</table>\n",
       "</div>"
      ],
      "text/plain": [
       "           Date    Open    High    Low   Close       Volume Adj Close\n",
       "0  Sep 01, 2015  109.35  111.24  93.55  103.26  497,401,200    103.26"
      ]
     },
     "execution_count": 53,
     "metadata": {},
     "output_type": "execute_result"
    }
   ],
   "source": [
    "# Boom now it's stored in appropriate df we want\n",
    "\n",
    "netflix_data"
   ]
  },
  {
   "cell_type": "code",
   "execution_count": 54,
   "id": "068322aa-8be1-46ae-bcfe-b5ca4298750f",
   "metadata": {},
   "outputs": [
    {
     "data": {
      "text/html": [
       "<div>\n",
       "<style scoped>\n",
       "    .dataframe tbody tr th:only-of-type {\n",
       "        vertical-align: middle;\n",
       "    }\n",
       "\n",
       "    .dataframe tbody tr th {\n",
       "        vertical-align: top;\n",
       "    }\n",
       "\n",
       "    .dataframe thead th {\n",
       "        text-align: right;\n",
       "    }\n",
       "</style>\n",
       "<table border=\"1\" class=\"dataframe\">\n",
       "  <thead>\n",
       "    <tr style=\"text-align: right;\">\n",
       "      <th></th>\n",
       "      <th>Date</th>\n",
       "      <th>Open</th>\n",
       "      <th>High</th>\n",
       "      <th>Low</th>\n",
       "      <th>Close</th>\n",
       "      <th>Volume</th>\n",
       "      <th>Adj Close</th>\n",
       "    </tr>\n",
       "  </thead>\n",
       "  <tbody>\n",
       "    <tr>\n",
       "      <th>0</th>\n",
       "      <td>Sep 01, 2015</td>\n",
       "      <td>109.35</td>\n",
       "      <td>111.24</td>\n",
       "      <td>93.55</td>\n",
       "      <td>103.26</td>\n",
       "      <td>497,401,200</td>\n",
       "      <td>103.26</td>\n",
       "    </tr>\n",
       "  </tbody>\n",
       "</table>\n",
       "</div>"
      ],
      "text/plain": [
       "           Date    Open    High    Low   Close       Volume Adj Close\n",
       "0  Sep 01, 2015  109.35  111.24  93.55  103.26  497,401,200    103.26"
      ]
     },
     "execution_count": 54,
     "metadata": {},
     "output_type": "execute_result"
    }
   ],
   "source": [
    "# Step 5 ----> Print the extracted data\n",
    "\n",
    "netflix_data.head()  "
   ]
  },
  {
   "cell_type": "code",
   "execution_count": null,
   "id": "72220f44-0dae-4d21-856c-949793256167",
   "metadata": {},
   "outputs": [],
   "source": [
    "# Use the request library to download webpage of Amazon stock data, save text of the response as a variable named html_data\n",
    "\n",
    "url = \"https://cf-courses-data.s3.us.cloud-object-storage.appdomain.cloud/IBMDeveloperSkillsNetwork-PY0220EN-SkillsNetwork/labs/project/amazon_data_webpage.html\"\n",
    "\n",
    "amazon_data = requests.get(url).text\n",
    "\n",
    "print(amazon_data)"
   ]
  },
  {
   "cell_type": "code",
   "execution_count": 56,
   "id": "0f2ee9fc-09e0-47b4-9a15-b744511f19b7",
   "metadata": {},
   "outputs": [
    {
     "name": "stdout",
     "output_type": "stream",
     "text": [
      "finished parsing successfully\n"
     ]
    }
   ],
   "source": [
    "# Parse the html data using beautiful_soup, we will pass our argument html_data, then define the parser we want to use.\n",
    "\n",
    "\n",
    "soup = BeautifulSoup(amazon_data,'html5lib')   # we parse and store that parsed data in soup,\n",
    "# to then pass into soup func to find title_tag etc\n",
    "\n",
    "\n",
    "print('finished parsing successfully')\n"
   ]
  },
  {
   "cell_type": "code",
   "execution_count": 57,
   "id": "ba7321cc-f3aa-4b58-88db-16209af75283",
   "metadata": {},
   "outputs": [
    {
     "name": "stdout",
     "output_type": "stream",
     "text": [
      "Title content: Amazon.com, Inc. (AMZN) Stock Historical Prices & Data - Yahoo Finance\n"
     ]
    }
   ],
   "source": [
    "# 1: What is the content of the title attribute?\n",
    "# ----> We will need to identify the \n",
    "\n",
    "\n",
    "# Extract the content of the title attribute\n",
    "title_tag = soup.title # Soup library automatically finds the title attr, just need to call it and assign\n",
    "title_content = title_tag.string if title_tag else 'No title tag found'  # Conditional check to ensure if N/A to return N/A\n",
    "\n",
    "# Print the content of the title tag\n",
    "print(\"Title content:\", title_content)"
   ]
  },
  {
   "cell_type": "code",
   "execution_count": 70,
   "id": "b0994d4c-9c7a-407d-86d7-e37fac15fee3",
   "metadata": {},
   "outputs": [],
   "source": [
    "# Using BeautifulSoup, extract the table with historical share prices and store it into a data frame named amazon_data. \n",
    "# The data frame should have columns -->  Date, Open, High, Low, Close, Adj Close, and Volume. \n",
    "# Fill in each variable with the correct data from the list col.\n",
    "\n",
    "amazon_data = pd.DataFrame(columns=[\"Date\", \"Open\", \"High\", \"Low\", \"Close\", \"Volume\"])\n",
    "\n",
    "for row in soup.find(\"tbody\").find_all(\"tr\"):\n",
    "    col = row.find_all(\"td\")\n",
    "    date = col[0].text\n",
    "    Open = col[1].text\n",
    "    high = col[2].text\n",
    "    low = col[3].text\n",
    "    close = col[4].text\n",
    "    adj_close = col[5].text\n",
    "    volume = col[6].text\n",
    "    \n",
    "    amazon_data = pd.concat([amazon_data, pd.DataFrame({\"Date\":[date], \"Open\":[Open], \"High\":[high], \"Low\":[low], \"Close\":[close], \"Adj Close\":[adj_close], \"Volume\":[volume]})], ignore_index=True)\n",
    "\n",
    "\n",
    "\n",
    "\n",
    "\n",
    "\n"
   ]
  },
  {
   "cell_type": "code",
   "execution_count": 59,
   "id": "09248d1d-df58-4bc1-b37d-400135e6a364",
   "metadata": {},
   "outputs": [
    {
     "data": {
      "text/html": [
       "<div>\n",
       "<style scoped>\n",
       "    .dataframe tbody tr th:only-of-type {\n",
       "        vertical-align: middle;\n",
       "    }\n",
       "\n",
       "    .dataframe tbody tr th {\n",
       "        vertical-align: top;\n",
       "    }\n",
       "\n",
       "    .dataframe thead th {\n",
       "        text-align: right;\n",
       "    }\n",
       "</style>\n",
       "<table border=\"1\" class=\"dataframe\">\n",
       "  <thead>\n",
       "    <tr style=\"text-align: right;\">\n",
       "      <th></th>\n",
       "      <th>Date</th>\n",
       "      <th>Open</th>\n",
       "      <th>High</th>\n",
       "      <th>Low</th>\n",
       "      <th>Close</th>\n",
       "      <th>Volume</th>\n",
       "      <th>Adj Close</th>\n",
       "    </tr>\n",
       "  </thead>\n",
       "  <tbody>\n",
       "    <tr>\n",
       "      <th>0</th>\n",
       "      <td>Jan 01, 2021</td>\n",
       "      <td>3,270.00</td>\n",
       "      <td>3,363.89</td>\n",
       "      <td>3,086.00</td>\n",
       "      <td>3,206.20</td>\n",
       "      <td>71,528,900</td>\n",
       "      <td>3,206.20</td>\n",
       "    </tr>\n",
       "    <tr>\n",
       "      <th>1</th>\n",
       "      <td>Dec 01, 2020</td>\n",
       "      <td>3,188.50</td>\n",
       "      <td>3,350.65</td>\n",
       "      <td>3,072.82</td>\n",
       "      <td>3,256.93</td>\n",
       "      <td>77,556,200</td>\n",
       "      <td>3,256.93</td>\n",
       "    </tr>\n",
       "    <tr>\n",
       "      <th>2</th>\n",
       "      <td>Nov 01, 2020</td>\n",
       "      <td>3,061.74</td>\n",
       "      <td>3,366.80</td>\n",
       "      <td>2,950.12</td>\n",
       "      <td>3,168.04</td>\n",
       "      <td>90,810,500</td>\n",
       "      <td>3,168.04</td>\n",
       "    </tr>\n",
       "    <tr>\n",
       "      <th>3</th>\n",
       "      <td>Oct 01, 2020</td>\n",
       "      <td>3,208.00</td>\n",
       "      <td>3,496.24</td>\n",
       "      <td>3,019.00</td>\n",
       "      <td>3,036.15</td>\n",
       "      <td>116,226,100</td>\n",
       "      <td>3,036.15</td>\n",
       "    </tr>\n",
       "    <tr>\n",
       "      <th>4</th>\n",
       "      <td>Sep 01, 2020</td>\n",
       "      <td>3,489.58</td>\n",
       "      <td>3,552.25</td>\n",
       "      <td>2,871.00</td>\n",
       "      <td>3,148.73</td>\n",
       "      <td>115,899,300</td>\n",
       "      <td>3,148.73</td>\n",
       "    </tr>\n",
       "  </tbody>\n",
       "</table>\n",
       "</div>"
      ],
      "text/plain": [
       "           Date      Open      High       Low     Close       Volume Adj Close\n",
       "0  Jan 01, 2021  3,270.00  3,363.89  3,086.00  3,206.20   71,528,900  3,206.20\n",
       "1  Dec 01, 2020  3,188.50  3,350.65  3,072.82  3,256.93   77,556,200  3,256.93\n",
       "2  Nov 01, 2020  3,061.74  3,366.80  2,950.12  3,168.04   90,810,500  3,168.04\n",
       "3  Oct 01, 2020  3,208.00  3,496.24  3,019.00  3,036.15  116,226,100  3,036.15\n",
       "4  Sep 01, 2020  3,489.58  3,552.25  2,871.00  3,148.73  115,899,300  3,148.73"
      ]
     },
     "execution_count": 59,
     "metadata": {},
     "output_type": "execute_result"
    }
   ],
   "source": [
    "# Printing out the first five rows of the dataframe we created\n",
    "\n",
    "amazon_data.head()"
   ]
  },
  {
   "cell_type": "code",
   "execution_count": 64,
   "id": "e6040972-1dd1-4817-bf44-f8d6952d00b3",
   "metadata": {},
   "outputs": [
    {
     "name": "stdout",
     "output_type": "stream",
     "text": [
      "Index(['Date', 'Open', 'High', 'Low', 'Close', 'Volume', 'Adj Close'], dtype='object')\n"
     ]
    }
   ],
   "source": [
    "# What are the names of the columns in the data frame?\n",
    "# We could just do amazon_data.head()\n",
    "# A better way would be like this ---->\n",
    "\n",
    "column_names = amazon_data.columns\n",
    "print(column_names)"
   ]
  },
  {
   "cell_type": "code",
   "execution_count": 65,
   "id": "9d60ae5e-556d-45df-b220-baea10274f56",
   "metadata": {},
   "outputs": [
    {
     "name": "stdout",
     "output_type": "stream",
     "text": [
      "(61, 7)\n"
     ]
    }
   ],
   "source": [
    "# print the shape\n",
    "print(amazon_data.shape)  # Rows, Columns\n"
   ]
  },
  {
   "cell_type": "code",
   "execution_count": 43,
   "id": "17807042-a0a0-4a51-8cd2-cd5578c7e82f",
   "metadata": {},
   "outputs": [
    {
     "name": "stdout",
     "output_type": "stream",
     "text": [
      "            Date      Open      High       Low     Close       Volume  \\\n",
      "0   Jan 01, 2021  3,270.00  3,363.89  3,086.00  3,206.20   71,528,900   \n",
      "1   Dec 01, 2020  3,188.50  3,350.65  3,072.82  3,256.93   77,556,200   \n",
      "2   Nov 01, 2020  3,061.74  3,366.80  2,950.12  3,168.04   90,810,500   \n",
      "3   Oct 01, 2020  3,208.00  3,496.24  3,019.00  3,036.15  116,226,100   \n",
      "4   Sep 01, 2020  3,489.58  3,552.25  2,871.00  3,148.73  115,899,300   \n",
      "..           ...       ...       ...       ...       ...          ...   \n",
      "56  May 01, 2016    663.92    724.23    656.00    722.79   90,614,500   \n",
      "57  Apr 01, 2016    590.49    669.98    585.25    659.59   78,464,200   \n",
      "58  Mar 01, 2016    556.29    603.24    538.58    593.64   94,009,500   \n",
      "59  Feb 01, 2016    578.15    581.80    474.00    552.52  124,144,800   \n",
      "60  Jan 01, 2016    656.29    657.72    547.18    587.00  130,200,900   \n",
      "\n",
      "   Adj Close  \n",
      "0   3,206.20  \n",
      "1   3,256.93  \n",
      "2   3,168.04  \n",
      "3   3,036.15  \n",
      "4   3,148.73  \n",
      "..       ...  \n",
      "56    722.79  \n",
      "57    659.59  \n",
      "58    593.64  \n",
      "59    552.52  \n",
      "60    587.00  \n",
      "\n",
      "[61 rows x 7 columns]\n"
     ]
    }
   ],
   "source": [
    "print(amazon_data)"
   ]
  },
  {
   "cell_type": "code",
   "execution_count": 66,
   "id": "78448596-0bf6-42fd-ba5f-d116b6f3e04e",
   "metadata": {},
   "outputs": [
    {
     "name": "stdout",
     "output_type": "stream",
     "text": [
      "Open value of the last row = 656.29\n"
     ]
    }
   ],
   "source": [
    "# What is the Open of the last row of the amazon_data data frame?\n",
    "\n",
    "# Access the last row's 'Open' value using iloc\n",
    "last_row_open = amazon_data.iloc[-1]['Open']\n",
    "\n",
    "# Print the value\n",
    "print(\"Open value of the last row =\", last_row_open)\n"
   ]
  },
  {
   "cell_type": "code",
   "execution_count": 67,
   "id": "dec4500b-17e9-40c4-8edb-779228f5eed8",
   "metadata": {},
   "outputs": [
    {
     "data": {
      "text/html": [
       "<div>\n",
       "<style scoped>\n",
       "    .dataframe tbody tr th:only-of-type {\n",
       "        vertical-align: middle;\n",
       "    }\n",
       "\n",
       "    .dataframe tbody tr th {\n",
       "        vertical-align: top;\n",
       "    }\n",
       "\n",
       "    .dataframe thead th {\n",
       "        text-align: right;\n",
       "    }\n",
       "</style>\n",
       "<table border=\"1\" class=\"dataframe\">\n",
       "  <thead>\n",
       "    <tr style=\"text-align: right;\">\n",
       "      <th></th>\n",
       "      <th>Date</th>\n",
       "      <th>Open</th>\n",
       "      <th>High</th>\n",
       "      <th>Low</th>\n",
       "      <th>Close</th>\n",
       "      <th>Volume</th>\n",
       "      <th>Adj Close</th>\n",
       "    </tr>\n",
       "  </thead>\n",
       "  <tbody>\n",
       "    <tr>\n",
       "      <th>56</th>\n",
       "      <td>May 01, 2016</td>\n",
       "      <td>663.92</td>\n",
       "      <td>724.23</td>\n",
       "      <td>656.00</td>\n",
       "      <td>722.79</td>\n",
       "      <td>90,614,500</td>\n",
       "      <td>722.79</td>\n",
       "    </tr>\n",
       "    <tr>\n",
       "      <th>57</th>\n",
       "      <td>Apr 01, 2016</td>\n",
       "      <td>590.49</td>\n",
       "      <td>669.98</td>\n",
       "      <td>585.25</td>\n",
       "      <td>659.59</td>\n",
       "      <td>78,464,200</td>\n",
       "      <td>659.59</td>\n",
       "    </tr>\n",
       "    <tr>\n",
       "      <th>58</th>\n",
       "      <td>Mar 01, 2016</td>\n",
       "      <td>556.29</td>\n",
       "      <td>603.24</td>\n",
       "      <td>538.58</td>\n",
       "      <td>593.64</td>\n",
       "      <td>94,009,500</td>\n",
       "      <td>593.64</td>\n",
       "    </tr>\n",
       "    <tr>\n",
       "      <th>59</th>\n",
       "      <td>Feb 01, 2016</td>\n",
       "      <td>578.15</td>\n",
       "      <td>581.80</td>\n",
       "      <td>474.00</td>\n",
       "      <td>552.52</td>\n",
       "      <td>124,144,800</td>\n",
       "      <td>552.52</td>\n",
       "    </tr>\n",
       "    <tr>\n",
       "      <th>60</th>\n",
       "      <td>Jan 01, 2016</td>\n",
       "      <td>656.29</td>\n",
       "      <td>657.72</td>\n",
       "      <td>547.18</td>\n",
       "      <td>587.00</td>\n",
       "      <td>130,200,900</td>\n",
       "      <td>587.00</td>\n",
       "    </tr>\n",
       "  </tbody>\n",
       "</table>\n",
       "</div>"
      ],
      "text/plain": [
       "            Date    Open    High     Low   Close       Volume Adj Close\n",
       "56  May 01, 2016  663.92  724.23  656.00  722.79   90,614,500    722.79\n",
       "57  Apr 01, 2016  590.49  669.98  585.25  659.59   78,464,200    659.59\n",
       "58  Mar 01, 2016  556.29  603.24  538.58  593.64   94,009,500    593.64\n",
       "59  Feb 01, 2016  578.15  581.80  474.00  552.52  124,144,800    552.52\n",
       "60  Jan 01, 2016  656.29  657.72  547.18  587.00  130,200,900    587.00"
      ]
     },
     "execution_count": 67,
     "metadata": {},
     "output_type": "execute_result"
    }
   ],
   "source": [
    "amazon_data.tail()"
   ]
  },
  {
   "cell_type": "code",
   "execution_count": null,
   "id": "25bc1866-1628-4359-b49b-74ea2a34d4d0",
   "metadata": {},
   "outputs": [],
   "source": []
  }
 ],
 "metadata": {
  "kernelspec": {
   "display_name": "Python 3 (ipykernel)",
   "language": "python",
   "name": "python3"
  },
  "language_info": {
   "codemirror_mode": {
    "name": "ipython",
    "version": 3
   },
   "file_extension": ".py",
   "mimetype": "text/x-python",
   "name": "python",
   "nbconvert_exporter": "python",
   "pygments_lexer": "ipython3",
   "version": "3.11.7"
  }
 },
 "nbformat": 4,
 "nbformat_minor": 5
}
