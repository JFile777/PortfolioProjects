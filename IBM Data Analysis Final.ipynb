{
 "cells": [
  {
   "cell_type": "code",
   "execution_count": null,
   "id": "a9f745c0-ccba-4de3-9162-10a6d27f3a93",
   "metadata": {},
   "outputs": [],
   "source": [
    "# In python, what signifies real numbers and utilizes a decimal point?\n",
    "\n",
    "# Ans: Float"
   ]
  },
  {
   "cell_type": "code",
   "execution_count": 2,
   "id": "5fbc0170-3b9e-4c5a-b651-a4da049cba86",
   "metadata": {},
   "outputs": [],
   "source": [
    "# what purpose does the Python find() method serve?\n",
    "\n",
    "# Ans: The method finds the starting index of a substring\n"
   ]
  },
  {
   "cell_type": "code",
   "execution_count": 3,
   "id": "241d99f5-d74d-4a02-a3f6-d8cc67bac4e9",
   "metadata": {},
   "outputs": [],
   "source": [
    "# When using the double slash “//” for integer division the result will be?\n",
    "\n",
    "# Ans: Truncated to return only the integer part"
   ]
  },
  {
   "cell_type": "code",
   "execution_count": 4,
   "id": "5c0e0b43-db0c-4479-8372-fa4eb115146c",
   "metadata": {},
   "outputs": [],
   "source": [
    "# Complete the statement. Dictionary items can be:\n",
    "\n",
    "# Ans: Numerous Data Types"
   ]
  },
  {
   "cell_type": "code",
   "execution_count": 5,
   "id": "fb5e8fbd-258f-4300-91ef-0a6070a83036",
   "metadata": {},
   "outputs": [],
   "source": [
    "# In a list or tuple, what does the index of \"1\" represent?\n",
    "\n",
    "# Ans: The second element"
   ]
  },
  {
   "cell_type": "code",
   "execution_count": 6,
   "id": "a612465a-8f0c-4847-87e7-ed0d2eb70f46",
   "metadata": {},
   "outputs": [],
   "source": [
    "# What line of code would produce this output: ['1','2','3','4']?\n",
    "\n",
    "# Ans: '1,2,3,4'.split(',')\n",
    "\n"
   ]
  },
  {
   "cell_type": "code",
   "execution_count": 7,
   "id": "278bf270-43be-4a7c-ab10-ce78d2fc0e0a",
   "metadata": {},
   "outputs": [],
   "source": [
    "# If A is a list, what happens with this segment of code: a=set(A)? \n",
    "\n",
    "# It casts the list “A” to the set “a”."
   ]
  },
  {
   "cell_type": "code",
   "execution_count": null,
   "id": "2250a1ef-962c-4b41-b479-aacb42f68c4b",
   "metadata": {},
   "outputs": [],
   "source": [
    "# For the code shared below, what value of x will produce the output “How are you?”? [Select three]\n",
    "\n",
    "# How are you?\n",
    "\n",
    " if(x!=1): \n",
    "\n",
    " print('How are you?') \n",
    "\n",
    "else: \n",
    "\n",
    " print('Hi')\n",
    "\n",
    "x = \"7\"\n",
    "x = 0\n",
    "x = 1\n",
    "x = 6\n",
    " # Ans: x = \"7\", x = 0, and x = 6.\n"
   ]
  },
  {
   "cell_type": "code",
   "execution_count": 9,
   "id": "999d8a35-75c9-45c4-b7b4-3b1babc2605e",
   "metadata": {},
   "outputs": [],
   "source": [
    "#  What is an error that occurs during the execution of code?\n",
    "\n",
    "\n",
    "# Exception handling\n",
    "\n",
    "\n",
    "\n",
    "# Exception\n",
    "\n",
    "\n",
    "\n",
    "# Error messages\n",
    "\n",
    "\n",
    "\n",
    "# Finally\n",
    "\n",
    "# Ans: Exception\n"
   ]
  },
  {
   "cell_type": "code",
   "execution_count": 10,
   "id": "a97846f4-7e28-4964-b797-b0bf36ce1f73",
   "metadata": {},
   "outputs": [
    {
     "data": {
      "text/plain": [
       "'11'"
      ]
     },
     "execution_count": 10,
     "metadata": {},
     "output_type": "execute_result"
    }
   ],
   "source": [
    "# for the provided add function below, what is the return value of the following?\n",
    "\n",
    "def add(x):\n",
    "\n",
    "    return(x + x)\n",
    "\n",
    "\n",
    "add('1')\n",
    "\n",
    "\n",
    "\n",
    "# Error\n",
    "\n",
    "\n",
    "\n",
    "# 2\n",
    "\n",
    "\n",
    "\n",
    "# '2'\n",
    "\n",
    "\n",
    "\n",
    "# '11'\n",
    "\n",
    "# Ans: '11' bc string not int so arithmetic concatenates strings\n"
   ]
  },
  {
   "cell_type": "code",
   "execution_count": null,
   "id": "860ca224-a6ad-41dc-b05d-927373f5e66d",
   "metadata": {},
   "outputs": [],
   "source": [
    "# What code segment would output the following?\n",
    "\n",
    "1\n",
    "\n",
    "3\n",
    "\n",
    "4\n",
    "\n",
    "# Ans: \n",
    "    for i in range(1,5): \n",
    "\n",
    "       if (i!=2): \n",
    "\n",
    "           print(i)"
   ]
  },
  {
   "cell_type": "code",
   "execution_count": null,
   "id": "6915e2b5-55b0-4e04-b562-1e929981e8f2",
   "metadata": {},
   "outputs": [],
   "source": [
    "# What is the rectangle's height in the Rectangle class?\n",
    "\n",
    "class Rectangle(object): \n",
    "\n",
    "    def __init__(self,width=2,height =3,color='r'):\n",
    "\n",
    "        self.height=height \n",
    "\n",
    "        self.width=width \n",
    "\n",
    "        self.color=color \n",
    "\n",
    "    def drawRectangle(self): \n",
    "\n",
    "        import matplotlib.pyplot as plt \n",
    "\n",
    "        plt.gca().add_patch(plt.Rectangle((0, 0),self.width, self.height ,fc=self.color)) \n",
    "\n",
    "        plt.axis('scaled')\n",
    "        plt.show(self)\n",
    "\n",
    "\n",
    "#2\n",
    "\n",
    "\n",
    "\n",
    "#‘r’\n",
    "\n",
    "\n",
    "\n",
    "3#\n",
    "\n",
    "\n",
    "\n",
    "#0\n",
    "\n",
    "\n",
    "# Ans: 3"
   ]
  },
  {
   "cell_type": "code",
   "execution_count": 20,
   "id": "31488e40-a7bb-458d-8458-ea286f4c4bf4",
   "metadata": {},
   "outputs": [],
   "source": [
    "# Complete the statement. You cannot sort a list if it contains:\n",
    "\n",
    "\n",
    "# only same Case strings\n",
    "\n",
    "\n",
    "\n",
    "# only numeric values\n",
    "\n",
    "\n",
    "\n",
    "# strings and numeric values\n",
    "\n",
    "\n",
    "\n",
    "# concatenated strings\n",
    "\n",
    "# Ans: Strings and Numeric values\n"
   ]
  },
  {
   "cell_type": "code",
   "execution_count": null,
   "id": "e7d450c9-cc82-4bce-9123-b46388a20d5b",
   "metadata": {},
   "outputs": [],
   "source": [
    "# Which line of code, when executed, would generate the following output: array([0, 0, 0, 0, 0])?\n",
    "\n",
    "\n",
    "a=np.array([0,1,0,1,0]) \n",
    "\n",
    " b=np.array([1,0,1,0,1]) \n",
    "\n",
    " a*b\n",
    "\n",
    "\n",
    "\n",
    "\n",
    "a=np.array([0,1,0,1,0]) \n",
    "\n",
    " b=np.array([1,0,1,0,1]) \n",
    "\n",
    " a-b\n",
    "\n",
    "\n",
    "\n",
    "\n",
    "a=np.array([0,1,0,1,0]) \n",
    "\n",
    " b=np.array([1,0,1,0,1]) \n",
    "\n",
    " a+b\n",
    "\n",
    "\n",
    "\n",
    "\n",
    "a=np.array([0,1,0,1,0]) \n",
    "\n",
    " b=np.array([1,0,1,0,1]) \n",
    "\n",
    " a/b\n",
    "\n",
    "\n",
    "\n",
    "# Ans: a=np.array([0,1,0,1,0]) \n",
    "\n",
    "#      b=np.array([1,0,1,0,1]) \n",
    "\n",
    "#      a*b\n",
    "\n"
   ]
  },
  {
   "cell_type": "code",
   "execution_count": null,
   "id": "1bedd160-e5f0-4873-b64f-212158d5a38c",
   "metadata": {},
   "outputs": [],
   "source": [
    "# What outcome do the following lines of code produce?\n",
    "\n",
    "a=np.array([10,9,8,7,6]) \n",
    "\n",
    "a+1\n",
    "\n",
    "# Ans: array([11,10,9,8,7])"
   ]
  },
  {
   "cell_type": "code",
   "execution_count": 23,
   "id": "afcddd4d-08df-4347-aef1-87cf4ca09739",
   "metadata": {},
   "outputs": [],
   "source": [
    "#  Which of the following is a two-dimensional data structure by default?\n",
    "\n",
    "\n",
    "# Numpy List\n",
    "\n",
    "\n",
    "\n",
    "# Pandas Dataframe\n",
    "\n",
    "\n",
    "\n",
    "# Numpy array\n",
    "\n",
    "\n",
    "\n",
    "# Pandas Series\n",
    "\n",
    "# Ans: Pandas Dataframe"
   ]
  },
  {
   "cell_type": "code",
   "execution_count": null,
   "id": "60c38f42-0518-4308-bfb7-67e0831e52c3",
   "metadata": {},
   "outputs": [],
   "source": [
    "# Given the file object named file1, what output would the following line of code produce?\n",
    "\n",
    "for n in range(0, 2):\n",
    "\n",
    "    print(file1.readline())\n",
    "\n",
    "\n",
    "\n",
    "# It would output the first 2 lines from the text file.\n",
    "\n",
    "\n",
    "\n",
    "# It would output 2 characters from the text file.\n",
    "\n",
    "\n",
    "\n",
    "# It would output the entire text file.\n",
    "\n",
    "\n",
    "\n",
    "# It would output the first 3 lines from the text file.\n",
    "\n",
    "#Ans: It would output the first 2 lines from the text file."
   ]
  },
  {
   "cell_type": "code",
   "execution_count": null,
   "id": "091144bb-487f-454a-b4f5-58aaa111c285",
   "metadata": {},
   "outputs": [],
   "source": [
    "# Consider the following line of code:\n",
    "\n",
    "with open(\"Example.txt\",\"a\") as file1:\n",
    "\n",
    "What mode is the file object in?\n",
    "\n",
    "\n",
    "    # Ans: Append"
   ]
  },
  {
   "cell_type": "code",
   "execution_count": null,
   "id": "a2389df2-83b4-4fa2-94c9-b52ba9445b44",
   "metadata": {},
   "outputs": [],
   "source": [
    "# in the URL below, which part is the scheme?\n",
    "http://www.ibm.com/images/IDSNlogo.png\n",
    "\n",
    "# Ans: http://"
   ]
  },
  {
   "cell_type": "code",
   "execution_count": null,
   "id": "e01a309a-f7e0-415a-aad9-ac8f039eaaa4",
   "metadata": {},
   "outputs": [],
   "source": [
    "# What is the process of extraction of data from a website called?\n",
    "\n",
    "\n",
    "Web crawling\n",
    "\n",
    "\n",
    "\n",
    "Crowd sourcing\n",
    "\n",
    "\n",
    "\n",
    "Data mining\n",
    "\n",
    "\n",
    "\n",
    "Webscraping\n",
    "\n",
    "\n",
    "# Ans: Webscraping\n"
   ]
  }
 ],
 "metadata": {
  "kernelspec": {
   "display_name": "Python 3 (ipykernel)",
   "language": "python",
   "name": "python3"
  },
  "language_info": {
   "codemirror_mode": {
    "name": "ipython",
    "version": 3
   },
   "file_extension": ".py",
   "mimetype": "text/x-python",
   "name": "python",
   "nbconvert_exporter": "python",
   "pygments_lexer": "ipython3",
   "version": "3.11.7"
  }
 },
 "nbformat": 4,
 "nbformat_minor": 5
}
